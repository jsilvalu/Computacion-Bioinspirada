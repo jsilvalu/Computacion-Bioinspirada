{
 "cells": [
  {
   "cell_type": "code",
   "execution_count": null,
   "metadata": {},
   "outputs": [],
   "source": [
    "# Algoritmos genéticos - Juan Antonio Silva Luján y Luis Bote Gallardo\n"
   ]
  },
  {
   "cell_type": "code",
   "execution_count": 14,
   "metadata": {},
   "outputs": [],
   "source": [
    "import numpy\n",
    "from random import randrange"
   ]
  },
  {
   "cell_type": "code",
   "execution_count": 38,
   "metadata": {},
   "outputs": [],
   "source": [
    "def matrizdistancias():\n",
    "  # Mostramos por pantalla lo que leemos desde el fichero\n",
    "  print('>>> Cargamos las matriz del txt')\n",
    "  filename ='ciudadesEjemplo.txt'\n",
    "\n",
    "  f = open('ciudadesEjemplo.txt')\n",
    "  # Primera lectura para obviar la cabecera\n",
    "  ciudades = f.readline()\n",
    "  print(ciudades)\n",
    "\n",
    "  # Cargamos los datos\n",
    "  data = f.read().strip()\n",
    "\n",
    "  # Se cierra el fichero\n",
    "  f.close()\n",
    "\n",
    "  #Separamos los datos en un array\n",
    "  matriz = [[int(num) for num in line.strip().split(',')] for line in data.split('\\n')]\n",
    "  for i in matriz:\n",
    "    print(i)  \n",
    "  return (matriz,ciudades) "
   ]
  },
  {
   "cell_type": "code",
   "execution_count": null,
   "metadata": {},
   "outputs": [],
   "source": [
    "# 16 ciudades, recorrer todas con algoritmos geneticos\n",
    "#distancia entre ciudades (entre 10 y 1000)\n",
    "\n",
    "\n",
    "#cosas que no entiendo\n",
    "#2 como funciona la mutacion"
   ]
  },
  {
   "cell_type": "code",
   "execution_count": 39,
   "metadata": {},
   "outputs": [
    {
     "name": "stdout",
     "output_type": "stream",
     "text": [
      ">>> Cargamos las matriz del txt\n",
      "ciudades = [\"Badajoz\",\"Caceres\",\"Merida\",\"Plasencia\",\"Malpartida-de-Caceres\",\"Gevora\"]\n",
      "\n",
      "[0, 93, 66, 170, 94, 7]\n",
      "[93, 0, 75, 80, 11, 85]\n",
      "[66, 75, 0, 150, 74, 65]\n",
      "[170, 80, 150, 0, 87, 163]\n",
      "[94, 11, 74, 87, 0, 88]\n",
      "[7, 85, 65, 163, 88, 0]\n"
     ]
    }
   ],
   "source": [
    "#crear poblacion\n",
    "\n",
    "matriz,ciudades = matrizdistancias()\n",
    "soluciones = []\n",
    "npob = len(matriz)\n"
   ]
  },
  {
   "cell_type": "code",
   "execution_count": 44,
   "metadata": {},
   "outputs": [],
   "source": [
    "#pob\n",
    "\n",
    "#seleccion \n",
    "# c indice de pob (ordenar por distancia)\n",
    "# k = randrange(npob) con k!=c\n",
    "# si  c<k -> rep (c,k)\n",
    "# sino c > k -> 50% rep (c,k) 50% rep (k,c)\n",
    "def sel(matriz):\n",
    "    npob = len(matriz)\n",
    "    k = randrange(npob)\n",
    "    if (matriz[c] < matriz[k]):\n",
    "        return(c,k)\n",
    "    else:\n",
    "        opcion = randrange(2)\n",
    "        if opcion == 0:\n",
    "            return(k,c)\n",
    "        elif opcion == 1:\n",
    "            return(c,k)\n",
    "\n"
   ]
  },
  {
   "cell_type": "code",
   "execution_count": 40,
   "metadata": {},
   "outputs": [],
   "source": [
    "# muta(c)\n",
    "def mut(c):\n",
    "  x = randrange(npob-1)\n",
    "  y = randrange(npob-1)\n",
    "  if (x != y):\n",
    "    b = x\n",
    "    x = y\n",
    "    y = b\n",
    "  return (b)\n",
    "#intercambia c[x] y c[y] #cambiar una ciudad por otra"
   ]
  },
  {
   "cell_type": "code",
   "execution_count": 53,
   "metadata": {},
   "outputs": [],
   "source": [
    "#rep (c,k)    #torneo\n",
    "\n",
    "#x = randrange(NC-1)\n",
    "\n",
    "# h1 -> C[:]   #\"copy\"\n",
    "# h2 -> C[:X]+ C[X:].reverse() #\"copy_flip\"\n",
    "# h3 -> C[:X].reverse()+ C[X:] #\"flip_copy\"\n",
    "# h4 -> C[:X].reverse()+ C[X:].reverse() #\"flip_flip\"\n",
    "# h5 -> K[:X]+ K[X:].reverse() #\"flip_flip\"\n",
    "\n",
    "# SORT(hi) por menor distancia\n",
    "# quedarse con los 2 o 3 mejores\n",
    "\n",
    "def rep(c,k):\n",
    "\n",
    "    x = randrange(npob-1)\n",
    "    h1 = c[:]\n",
    "    h2 = c[:X] + C[X:].reverse()\n",
    "    h3 = c[:X].reverse() + C[X:]\n",
    "    h4 = c[:X].reverse() + C[X:].reverse()\n",
    "    h5 = k[:X].reverse() + k[X:].reverse()\n",
    "    h1.sort(key = distancia)\n",
    "    h2.sort(key = distancia)\n",
    "    h3.sort(key = distancia)\n",
    "    h4.sort(key = distancia)\n",
    "    h5.sort(key = distancia)\n",
    "    resultado = [h1,h2,h3,h4,h5]\n",
    "    resultado.sort(key = distancia) # arreglar\n",
    " \n",
    "    return (resultado[0],resultado[1],resultado[2])\n"
   ]
  },
  {
   "cell_type": "code",
   "execution_count": null,
   "metadata": {},
   "outputs": [],
   "source": [
    "# Algoritmos\n",
    "#1 -> hasta len (menu pob)>=Npob   \n",
    "#2 -> hasta recortar toda la POB      #equilibrado \n",
    "#3 -> = pob x 2 o 3 + ¿?    #porcentaje de mutacion muy alto, converge rapido"
   ]
  },
  {
   "cell_type": "code",
   "execution_count": 51,
   "metadata": {},
   "outputs": [
    {
     "ename": "TypeError",
     "evalue": "'int' object is not subscriptable",
     "output_type": "error",
     "traceback": [
      "\u001b[1;31m---------------------------------------------------------------------------\u001b[0m",
      "\u001b[1;31mTypeError\u001b[0m                                 Traceback (most recent call last)",
      "\u001b[1;32m<ipython-input-51-5ca0d8d88fa1>\u001b[0m in \u001b[0;36m<module>\u001b[1;34m\u001b[0m\n\u001b[0;32m     13\u001b[0m     \u001b[0mc\u001b[0m \u001b[1;33m=\u001b[0m \u001b[0mseleccionado\u001b[0m\u001b[1;33m[\u001b[0m\u001b[1;36m0\u001b[0m\u001b[1;33m]\u001b[0m\u001b[1;33m\u001b[0m\u001b[1;33m\u001b[0m\u001b[0m\n\u001b[0;32m     14\u001b[0m     \u001b[0mk\u001b[0m \u001b[1;33m=\u001b[0m \u001b[0mseleccionado\u001b[0m\u001b[1;33m[\u001b[0m\u001b[1;36m1\u001b[0m\u001b[1;33m]\u001b[0m\u001b[1;33m\u001b[0m\u001b[1;33m\u001b[0m\u001b[0m\n\u001b[1;32m---> 15\u001b[1;33m     \u001b[0mrep\u001b[0m\u001b[1;33m(\u001b[0m\u001b[0mc\u001b[0m\u001b[1;33m,\u001b[0m\u001b[0mk\u001b[0m\u001b[1;33m)\u001b[0m \u001b[1;31m# a que lo igualo\u001b[0m\u001b[1;33m\u001b[0m\u001b[1;33m\u001b[0m\u001b[0m\n\u001b[0m\u001b[0;32m     16\u001b[0m     \u001b[0mmut\u001b[0m\u001b[1;33m(\u001b[0m\u001b[0mc\u001b[0m\u001b[1;33m)\u001b[0m\u001b[1;33m\u001b[0m\u001b[1;33m\u001b[0m\u001b[0m\n\u001b[0;32m     17\u001b[0m     \u001b[0mi\u001b[0m \u001b[1;33m=\u001b[0m \u001b[0mi\u001b[0m\u001b[1;33m+\u001b[0m\u001b[1;36m1\u001b[0m\u001b[1;33m\u001b[0m\u001b[1;33m\u001b[0m\u001b[0m\n",
      "\u001b[1;32m<ipython-input-50-a30b19fdc693>\u001b[0m in \u001b[0;36mrep\u001b[1;34m(c, k)\u001b[0m\n\u001b[0;32m     16\u001b[0m     \u001b[0mx\u001b[0m \u001b[1;33m=\u001b[0m \u001b[0mrandrange\u001b[0m\u001b[1;33m(\u001b[0m\u001b[0mnpob\u001b[0m\u001b[1;33m-\u001b[0m\u001b[1;36m1\u001b[0m\u001b[1;33m)\u001b[0m\u001b[1;33m\u001b[0m\u001b[1;33m\u001b[0m\u001b[0m\n\u001b[0;32m     17\u001b[0m     \u001b[0mh1\u001b[0m \u001b[1;33m=\u001b[0m \u001b[0mc\u001b[0m\u001b[1;33m\u001b[0m\u001b[1;33m\u001b[0m\u001b[0m\n\u001b[1;32m---> 18\u001b[1;33m     \u001b[0mh2\u001b[0m \u001b[1;33m=\u001b[0m \u001b[0mc\u001b[0m\u001b[1;33m[\u001b[0m\u001b[1;33m:\u001b[0m\u001b[0mx\u001b[0m\u001b[1;33m]\u001b[0m \u001b[1;33m+\u001b[0m \u001b[0mC\u001b[0m\u001b[1;33m[\u001b[0m\u001b[0mx\u001b[0m\u001b[1;33m:\u001b[0m\u001b[1;33m]\u001b[0m\u001b[1;33m.\u001b[0m\u001b[0mreverse\u001b[0m\u001b[1;33m(\u001b[0m\u001b[1;33m)\u001b[0m\u001b[1;33m\u001b[0m\u001b[1;33m\u001b[0m\u001b[0m\n\u001b[0m\u001b[0;32m     19\u001b[0m     \u001b[0mh3\u001b[0m \u001b[1;33m=\u001b[0m \u001b[0mc\u001b[0m\u001b[1;33m[\u001b[0m\u001b[1;33m:\u001b[0m\u001b[0mX\u001b[0m\u001b[1;33m]\u001b[0m\u001b[1;33m.\u001b[0m\u001b[0mreverse\u001b[0m\u001b[1;33m(\u001b[0m\u001b[1;33m)\u001b[0m \u001b[1;33m+\u001b[0m \u001b[0mC\u001b[0m\u001b[1;33m[\u001b[0m\u001b[0mX\u001b[0m\u001b[1;33m:\u001b[0m\u001b[1;33m]\u001b[0m\u001b[1;33m\u001b[0m\u001b[1;33m\u001b[0m\u001b[0m\n\u001b[0;32m     20\u001b[0m     \u001b[0mh4\u001b[0m \u001b[1;33m=\u001b[0m \u001b[0mc\u001b[0m\u001b[1;33m[\u001b[0m\u001b[1;33m:\u001b[0m\u001b[0mX\u001b[0m\u001b[1;33m]\u001b[0m\u001b[1;33m.\u001b[0m\u001b[0mreverse\u001b[0m\u001b[1;33m(\u001b[0m\u001b[1;33m)\u001b[0m \u001b[1;33m+\u001b[0m \u001b[0mC\u001b[0m\u001b[1;33m[\u001b[0m\u001b[0mX\u001b[0m\u001b[1;33m:\u001b[0m\u001b[1;33m]\u001b[0m\u001b[1;33m.\u001b[0m\u001b[0mreverse\u001b[0m\u001b[1;33m(\u001b[0m\u001b[1;33m)\u001b[0m\u001b[1;33m\u001b[0m\u001b[1;33m\u001b[0m\u001b[0m\n",
      "\u001b[1;31mTypeError\u001b[0m: 'int' object is not subscriptable"
     ]
    }
   ],
   "source": [
    "#inicial \n",
    "\n",
    "#ciclo\n",
    "# ordenar(pob)[:POB]\n",
    "# sel -> rep -> mut \n",
    "# fin(nº de gen )#50 veces o hasta llenar el pull de soluciones\n",
    "#c=0\n",
    "k=0\n",
    "pob = matriz\n",
    "for i in range(1,50):\n",
    "    pob.sort()\n",
    "    seleccionado = sel(pob)\n",
    "    c = seleccionado[0]\n",
    "    k = seleccionado[1]\n",
    "    rep(c,k) # a que lo igualo\n",
    "    mut(c)\n",
    "    i = i+1"
   ]
  }
 ],
 "metadata": {
  "kernelspec": {
   "display_name": "Python 3",
   "language": "python",
   "name": "python3"
  },
  "language_info": {
   "codemirror_mode": {
    "name": "ipython",
    "version": 3
   },
   "file_extension": ".py",
   "mimetype": "text/x-python",
   "name": "python",
   "nbconvert_exporter": "python",
   "pygments_lexer": "ipython3",
   "version": "3.7.3"
  }
 },
 "nbformat": 4,
 "nbformat_minor": 2
}
