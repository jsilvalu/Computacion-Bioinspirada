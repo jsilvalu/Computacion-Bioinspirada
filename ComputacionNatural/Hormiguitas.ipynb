{
  "nbformat": 4,
  "nbformat_minor": 0,
  "metadata": {
    "colab": {
      "name": "Hormiguitas.ipynb",
      "provenance": [],
      "collapsed_sections": [],
      "toc_visible": true
    },
    "kernelspec": {
      "name": "python3",
      "display_name": "Python 3"
    },
    "accelerator": "GPU"
  },
  "cells": [
    {
      "cell_type": "markdown",
      "metadata": {
        "id": "9Nzh6nEf50xo",
        "colab_type": "text"
      },
      "source": [
        "# Algoritmos de colmena - Juan Antonio Silva Luján y Luis Bote Gallardo\n",
        "\n",
        "\n",
        "\n",
        "---\n",
        "\n",
        "\n",
        "\n"
      ]
    },
    {
      "cell_type": "markdown",
      "metadata": {
        "id": "2LSF6YqvaBeY",
        "colab_type": "text"
      },
      "source": [
        "![Fig01.Imagen Presentación](http://2.bp.blogspot.com/-SnUkuHoTcSQ/Uj0L1q8wGKI/AAAAAAAAANY/Rc5VQe5l8aM/s1600/hormigas.jpg)"
      ]
    },
    {
      "cell_type": "markdown",
      "metadata": {
        "id": "3ObNYT6fAG7D",
        "colab_type": "text"
      },
      "source": [
        "## 1. Introducción al problema\n"
      ]
    },
    {
      "cell_type": "markdown",
      "metadata": {
        "id": "PTyY5riJAPpb",
        "colab_type": "text"
      },
      "source": [
        "El análisis del algoritmo que nos ocupa se basa en la observación del comportamiento de las hormigas.\n",
        "Inicialmente, esta colmena se mueve de forma aleatoria, no obstante, cuando las hormigas comienzan a moverse por caminos prometedores, comienzan a depositar feromonas que otras hormigas asumirán para poder \"localizar\" los caminos más prometedores.\n",
        "Así mismo, las feromonas, se van evaporando, perdiendo su valor a largo plazo."
      ]
    },
    {
      "cell_type": "markdown",
      "metadata": {
        "id": "ZeKApLTM816P",
        "colab_type": "text"
      },
      "source": [
        "## Evaporación de las feromonas"
      ]
    },
    {
      "cell_type": "markdown",
      "metadata": {
        "id": "KfQem_KH-GTJ",
        "colab_type": "text"
      },
      "source": [
        "Mediante la función evaporaferomonas podemos introducir la feromona concreta que deseamos evaporar aplicando un coeficiente del 10% de disminución.\n",
        "La feromona actual se encuentra en uno nodo. Esta técnica es aplicada para evitar la aparición de óptimos locales.\n"
      ]
    },
    {
      "cell_type": "markdown",
      "metadata": {
        "id": "lw_uxjVy_2jD",
        "colab_type": "text"
      },
      "source": [
        "\n",
        "\n",
        "---\n",
        "\n"
      ]
    },
    {
      "cell_type": "code",
      "metadata": {
        "id": "KI7g8FuaugGT",
        "colab_type": "code",
        "colab": {}
      },
      "source": [
        "#Realizamos la función de ir evaporando las feomonas, se van multiplicando\n",
        "#por una constante con valor 0.9 = Coeficiente 10%\n",
        "def evaporaferomonas(feromonas):\n",
        "\n",
        "  coeficienteReduccion=0.9\n",
        "  for lista in feromonas:           #Recorremos la lista de feromonas, en cada iteración\n",
        "    for i in range(len(lista)):     #vamos aplicando una reducción del 10% del valor\n",
        "      lista[i] = lista[i] * coeficienteReduccion"
      ],
      "execution_count": 0,
      "outputs": []
    },
    {
      "cell_type": "markdown",
      "metadata": {
        "id": "1TgZtlRv-8Iz",
        "colab_type": "text"
      },
      "source": [
        "## Rastrear Feromonas depositadas\n",
        "\n",
        "Durante el proceso de ejecución del algoritmo, cada hormiga es capaz de ir rastreando las feromonas depositadas en las aristas por otras hormigas.\n",
        "Este método ayudará a actualizar estas feromonas por cada hormiga ejecutada."
      ]
    },
    {
      "cell_type": "code",
      "metadata": {
        "id": "wySMqIkW_XNT",
        "colab_type": "code",
        "colab": {}
      },
      "source": [
        "#Actualización de la estructura matricial de feromonas\n",
        "#dado un camino croncreto\n",
        "def rastroferomonas(feromonas, camino, dosis):\n",
        "\n",
        "  for i in range (len(camino) - 1):\n",
        "    feromonaR = feromonas[camino[i]][camino[i+1]]\n",
        "    feromonaR = feromonaR + dosis"
      ],
      "execution_count": 0,
      "outputs": []
    },
    {
      "cell_type": "markdown",
      "metadata": {
        "id": "QoyU_ZxX_6Kb",
        "colab_type": "text"
      },
      "source": [
        "\n",
        "\n",
        "---\n",
        "\n"
      ]
    },
    {
      "cell_type": "markdown",
      "metadata": {
        "id": "kC2SSr90DEtR",
        "colab_type": "text"
      },
      "source": [
        "## Hormigas\n",
        "\n",
        "Implementación del algoritmo del viajante aplicado a la colonia de hormigas. Se recibe por parámetros un array bidimensional"
      ]
    },
    {
      "cell_type": "code",
      "metadata": {
        "id": "ssmp0Z0WDCyb",
        "colab_type": "code",
        "colab": {}
      },
      "source": [
        "#El método retornará una estructura (tupla) con el camino\n",
        "#evaluado más prometedor de todos los obtenidos así como \n",
        "#la distancia total que tiene.\n",
        "\n",
        "def hormigas(matriz, iteraciones, distMedia):\n",
        "\n",
        "  #Dclaración/Inicialización de matriz para las feromonas\n",
        "  #por defecto, se inicializará la matriz vacía\n",
        "  n = len(matriz)\n",
        "  feromonas = [[0 for i in range(n)] for j in range(n)]\n",
        "\n",
        "  #Declaración del camino más prometedor y su longitud, \n",
        "  #inicialmente, se le asignará el máximo valor posible\n",
        "  #y se irá adaptando a lo largo de la ejecución cuando se\n",
        "  #vayan actualizando los correspondientes pesos.\n",
        "  camino_prometedor = []\n",
        "  distancia_mejor = sys.maxsize\n",
        "\n",
        "  #Recorremos todas las iteraciones generando nuevas hormigas que \n",
        "  #irán recorriendo un camino, en caso de tratarse de un camino \n",
        "  #prometedor que supere al anterior, deposita una feromona que\n",
        "  #tendrá \"mejor\" en los casos de que los caminos sean más cortos.\n",
        "  for iter in range(iteraciones):\n",
        "    (camino,distancia) = eligecamino(matriz, feromonas)\n",
        "    if (distancia <= distancia_mejor):\n",
        "      camino_prometedor = camino\n",
        "      distancia_mejor = distancia\n",
        "    \n",
        "    dis = distMedia/distancia\n",
        "    rastroferomonas(feromonas, camino, dis)\n",
        "\n",
        "    # En cualquier caso, las feromonas se van evaporando\n",
        "    evaporaferomonas(feromonas)\n",
        "\n",
        "  # Se devuelve el mejor camino que se haya encontrado\n",
        "  return (camino_prometedor, distancia)"
      ],
      "execution_count": 0,
      "outputs": []
    },
    {
      "cell_type": "markdown",
      "metadata": {
        "id": "AXy4J-tqGygd",
        "colab_type": "text"
      },
      "source": [
        "\n",
        "\n",
        "---\n",
        "\n"
      ]
    },
    {
      "cell_type": "markdown",
      "metadata": {
        "id": "Yu-22YwOG0KB",
        "colab_type": "text"
      },
      "source": [
        "## Elección del Nodo\n",
        "\n",
        "La función de elección del nodo sirve para decidir hacia que nodo se expandirá la hormiga, el método retornará una estructura (lista) con todas las opciones posibles expandibles teniendo en cuenta los valores:\n",
        "\n",
        "\n",
        "1.   Ciudades\n",
        "2.   Feromonas\n",
        "\n"
      ]
    },
    {
      "cell_type": "code",
      "metadata": {
        "id": "2tYHbyrVHMmx",
        "colab_type": "code",
        "colab": {}
      },
      "source": [
        "import random, sys, math\n",
        "#Expande un nodo concreto (camino) analizando los pesos de las feromonas y \n",
        "#los nodos que ya han sido visitados anteriormente\n",
        "def eligenodo(valores, feromonas, visitados):\n",
        "\n",
        "  #Declaración de valor de cada ciudad\n",
        "  LValores = []\n",
        "  LAccesibles = []\n",
        "  actual = visitados[-1]\n",
        "\n",
        "  # Declaración de valores de cada ciudadn(alfa -> feromonas & beta-> valor)\n",
        "  ALPHA = 1.0\n",
        "  BETA = 2.0\n",
        "\n",
        "  #Se recorre la estructura, en cada iteración, se calcula 1.0 + la feromona \n",
        "  #correspondiente elevado al valor ALPHA, a continuación, se calcula el valor\n",
        "  #del peso mediante la división de 1.0 entre el valor que corresponde elevado\n",
        "  #a BETA\n",
        "  for i in range(len(valores)):\n",
        "    if i not in visitados:\n",
        "      ferom = math.pow((1.0 + feromonas[actual][i]), ALPHA)\n",
        "      ponderacion = math.pow(1.0/valores[actual][i], BETA)*ferom\n",
        "      LAccesibles.append(i)\n",
        "      LValores.append(ponderacion)\n",
        "\n",
        "  #Introducimos en valor una de las opciones de forma aleatoria pero teniendo en\n",
        "  # consideración el valor del peso.\n",
        "  valor = random.random() * sum(LValores)\n",
        "  acumulador = 0.0\n",
        "  i = -1\n",
        "  while valor > acumulador:\n",
        "    i += 1\n",
        "    acumulador += LValores[i]\n",
        "  return LAccesibles[i]"
      ],
      "execution_count": 0,
      "outputs": []
    },
    {
      "cell_type": "markdown",
      "metadata": {
        "id": "TAjDApnDMLQ8",
        "colab_type": "text"
      },
      "source": [
        "\n",
        "\n",
        "---\n",
        "\n"
      ]
    },
    {
      "cell_type": "markdown",
      "metadata": {
        "id": "RwEBfn2kMMPq",
        "colab_type": "text"
      },
      "source": [
        "## Elección del camino\n",
        "Este método actúa a partir de la ejecución de la función anterior (eligenodo), usa un nodo retornado por la estructura para decidir cuales son las ciudades más prometedoras para expandir.\n",
        "El método retorna cual será el camino elegido así como su distancia tota. "
      ]
    },
    {
      "cell_type": "code",
      "metadata": {
        "id": "QHjLGBKmM6CW",
        "colab_type": "code",
        "colab": {}
      },
      "source": [
        "#Recibe una matriz y las feromonas para \n",
        "def eligecamino(matriz, feromonas):\n",
        "\n",
        "  #Declaración/Inicialización del camino prometedor y su distancia,\n",
        "  #por defecto, inicializamos a 0, este valor irá incrementándose\n",
        "  #a lo largo de la ejecución del algoritmo.\n",
        "  camino = [0]\n",
        "  distancia_acum = 0.0\n",
        "\n",
        "  #Mientras que la estructura que almacena los caminos sea menor que\n",
        "  #la matriz, en cada iteración se invoca a la función eligenodo\n",
        "  #para ir acumulando la distancia según la iteración actual.\n",
        "  while (len(camino) < len(matriz)):\n",
        "    nodo = eligenodo(matriz, feromonas, camino)\n",
        "    distancia_acum = distancia_acum + matriz[camino[-1]][nodo]\n",
        "    camino.append(nodo)\n",
        "\n",
        "  #Cuando terminamos con todas las iteraciones anteriores, se vuelve\n",
        "  #a ubicar por defecto el nodo 0\n",
        "  distancia_acum = distancia_acum + matriz [camino[-1]][0]\n",
        "  camino.append(0)\n",
        "  return (camino, distancia_acum)"
      ],
      "execution_count": 0,
      "outputs": []
    },
    {
      "cell_type": "markdown",
      "metadata": {
        "id": "UEypPSwdRhyV",
        "colab_type": "text"
      },
      "source": [
        "\n",
        "\n",
        "---\n",
        "\n",
        "\n",
        "\n",
        "---\n",
        "\n"
      ]
    },
    {
      "cell_type": "markdown",
      "metadata": {
        "id": "NMuTTGAgRkQh",
        "colab_type": "text"
      },
      "source": [
        "## Matriz distancias (Opción 1)\n",
        "\n",
        "\n",
        "Sirve para no tener que introducir todos los datos relativos a las ciudades manualmente, con este función, se genera una matriz con los valores aleatoriamente para realizar la ejecución de la simulación del programa.\n"
      ]
    },
    {
      "cell_type": "code",
      "metadata": {
        "id": "AcqDtkusR-vI",
        "colab_type": "code",
        "colab": {}
      },
      "source": [
        "#A la hora de utilizar las ciudades y generar la matriz, tenemos dos opciones:\n",
        "#La primera\n",
        "\n",
        "#Se crea una matriz de N x N donde N es el número de ciudades\n",
        "#asignando valores de forma aleatoria \n",
        "from random import randrange\n",
        "def matrizdistancias(N, distanciaMaxima):\n",
        "\n",
        "  matriz = [[0 for i in range(N)] for j in range (N)]\n",
        "  for i in range(N):\n",
        "    for j in range(i):\n",
        "      matriz[i][j] = 1+randrange(100)\n",
        "      matriz[j][i] = matriz[i][j]\n",
        "\n",
        "  #Impresión de la matriz resultante\n",
        "  print(\"Matriz de ciudades: \")\n",
        "  print()\n",
        "  for i in matriz:\n",
        "    print(i)  \n",
        " \n",
        "  return matriz"
      ],
      "execution_count": 0,
      "outputs": []
    },
    {
      "cell_type": "markdown",
      "metadata": {
        "id": "ksgyLIxKt7mE",
        "colab_type": "text"
      },
      "source": [
        "## Matriz distancias (Opción 2)\n",
        "\n",
        "\n",
        "Carga la matriz distancias desde un archivo txt guardado en el entorno de ejecución"
      ]
    },
    {
      "cell_type": "code",
      "metadata": {
        "id": "VA610WkiuB49",
        "colab_type": "code",
        "colab": {}
      },
      "source": [
        "def matrizdistancias2():\n",
        "  # Mostramos por pantalla lo que leemos desde el fichero\n",
        "  print('>>> Cargamos las matriz del txt')\n",
        "  filename ='/content/ciudadesEjemplo.txt'\n",
        "\n",
        "  f = open('/content/ciudadesEjemplo.txt')\n",
        "  # Primera lectura para obviar la cabecera\n",
        "  ciudades = f.readline()\n",
        "  print(ciudades)\n",
        "\n",
        "  # Cargamos los datos\n",
        "  data = f.read().strip()\n",
        "\n",
        "  # Se cierra el fichero\n",
        "  f.close()\n",
        "\n",
        "  #Separamos los datos en un array\n",
        "  matriz = [[int(num) for num in line.strip().split(',')] for line in data.split('\\n')]\n",
        "  for i in matriz:\n",
        "    print(i)  \n",
        "  return (matriz,ciudades) \n",
        "\n"
      ],
      "execution_count": 0,
      "outputs": []
    },
    {
      "cell_type": "code",
      "metadata": {
        "id": "qcmkHYGmK96o",
        "colab_type": "code",
        "colab": {}
      },
      "source": [
        "# Busca el valor máximo de una matriz\n",
        "def maxMatriz(matriz):\n",
        "  maximo = matriz[0][0]\n",
        "  for i in range(len(matriz)):\n",
        "    for j in range(len(matriz[0])):\n",
        "      if matriz[i][j] > maximo:\n",
        "          maximo = matriz[i][j]\n",
        "  print()\n",
        "  print('Valor máximo de la matriz', maximo)\n",
        "  return maximo\n"
      ],
      "execution_count": 0,
      "outputs": []
    },
    {
      "cell_type": "markdown",
      "metadata": {
        "id": "VUchkhRvucG0",
        "colab_type": "text"
      },
      "source": [
        "#Ejecución del algoritmo\n",
        "\n",
        "Ejecutamos el método principal que llamará a los métodos anteriores, aquí podemos decidir que opción utilizar"
      ]
    },
    {
      "cell_type": "code",
      "metadata": {
        "id": "ua2XJKV0ShZ2",
        "colab_type": "code",
        "outputId": "d48f1b24-4e5d-47d5-ceba-c099bd0996fc",
        "colab": {
          "base_uri": "https://localhost:8080/",
          "height": 439
        }
      },
      "source": [
        "from time import time\n",
        "\n",
        "# Start counting.\n",
        "start_time = time()\n",
        "\n",
        "#Declaración de variables y asignación de valores de ejemplo\n",
        "\n",
        "iteraciones  = 2000\n",
        "hormigasMAX = 5\n",
        "\n",
        "\n",
        "#Opción 1\n",
        "numCiudades  = 12\n",
        "MAXdistancia = 300\n",
        "ciudades = matrizdistancias(numCiudades, MAXdistancia)\n",
        "\n",
        "\n",
        "\n",
        "\n",
        "\n",
        "#Opción 2\n",
        "#ciudades,numCiudades=matrizdistancias2()\n",
        "#numCiudades = len(numCiudades)\n",
        "#MAXdistancia = maxMatriz(ciudades)\n",
        "\n",
        "\n",
        "#Cálculo de la distancia media -> Cantidad de ciudades multiplicado\n",
        "#por el valor de la distancia máximo, todo ello partido por 2.\n",
        "numHormigas=hormigasMAX\n",
        "if hormigasMAX < numCiudades:\n",
        "  numHormigas = numCiudades\n",
        "\n",
        "distMedia = numCiudades*MAXdistancia/2\n",
        "for i in range(1,numHormigas):\n",
        "  (camino, longCamino) = hormigas(ciudades, iteraciones, distMedia)\n",
        "  i = i+1\n",
        "\n",
        "#Impresión por pantalla de los valores retornados tras la ejecución\n",
        "#del programa\n",
        "print()\n",
        "print(\"____________________________________________________\")\n",
        "print()\n",
        "print(\"Camino -> \", camino)\n",
        "print()\n",
        "print(\"Longitud del camino:    \", longCamino)\n",
        "print()\n",
        "\n",
        "# Calculate the elapsed time.\n",
        "elapsed_time = time() - start_time\n",
        "print()\n",
        "print(\"Tiempo de ejecución: %0.5f segundos.\" % elapsed_time)"
      ],
      "execution_count": 0,
      "outputs": [
        {
          "output_type": "stream",
          "text": [
            "Matriz de ciudades: \n",
            "\n",
            "[0, 30, 63, 69, 54, 56, 67, 21, 18, 56, 40, 69]\n",
            "[30, 0, 43, 89, 86, 16, 55, 50, 25, 91, 8, 57]\n",
            "[63, 43, 0, 19, 1, 70, 29, 68, 23, 90, 52, 88]\n",
            "[69, 89, 19, 0, 55, 96, 21, 31, 94, 38, 99, 11]\n",
            "[54, 86, 1, 55, 0, 66, 46, 38, 8, 77, 10, 28]\n",
            "[56, 16, 70, 96, 66, 0, 49, 45, 6, 59, 70, 23]\n",
            "[67, 55, 29, 21, 46, 49, 0, 80, 83, 63, 81, 67]\n",
            "[21, 50, 68, 31, 38, 45, 80, 0, 8, 34, 1, 58]\n",
            "[18, 25, 23, 94, 8, 6, 83, 8, 0, 39, 18, 85]\n",
            "[56, 91, 90, 38, 77, 59, 63, 34, 39, 0, 2, 83]\n",
            "[40, 8, 52, 99, 10, 70, 81, 1, 18, 2, 0, 41]\n",
            "[69, 57, 88, 11, 28, 23, 67, 58, 85, 83, 41, 0]\n",
            "\n",
            "____________________________________________________\n",
            "\n",
            "Camino ->  [0, 8, 4, 2, 6, 3, 11, 5, 1, 10, 9, 7, 0]\n",
            "\n",
            "Longitud del camino:     302.0\n",
            "\n",
            "\n",
            "Tiempo de ejecución: 1.69543 segundos.\n"
          ],
          "name": "stdout"
        }
      ]
    },
    {
      "cell_type": "markdown",
      "metadata": {
        "id": "QRUDEe5qK4UP",
        "colab_type": "text"
      },
      "source": [
        "#fichero de prueba\n",
        "\n",
        "copiar y pegar el texto de debajo en un fichero \"ciudadesEjemplo.txt\" y cargarlo desde el modulo de la opcion 2\n",
        "\n",
        "ciudades = [\"Badajoz\",\"Caceres\",\"Merida\",\"Plasencia\",\"Malpartida-de-Caceres\",\"Gevora\"]\n",
        "0,93,66,170,94,7\n",
        "93,0,75,80,11,85\n",
        "66,75,0,150,74,65\n",
        "170,80,150,0,87,163\n",
        "94,11,74,87,0,88\n",
        "7,85,65,163,88,0 \n"
      ]
    }
  ]
}