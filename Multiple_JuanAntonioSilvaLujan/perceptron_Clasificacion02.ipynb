{
 "cells": [
  {
   "cell_type": "code",
   "execution_count": 1,
   "metadata": {},
   "outputs": [],
   "source": [
    "import numpy as np\n",
    "import scipy as sc\n",
    "import matplotlib.pyplot as plt\n"
   ]
  },
  {
   "cell_type": "code",
   "execution_count": 2,
   "metadata": {},
   "outputs": [],
   "source": [
    "# FUNCIONES DE ACTIVACION\n",
    "class function(object):\n",
    "    def __init__(self,funcion,derivative=None):\n",
    "        self.F=funcion\n",
    "        self.D=derivative"
   ]
  },
  {
   "cell_type": "code",
   "execution_count": 3,
   "metadata": {},
   "outputs": [
    {
     "data": {
      "text/plain": [
       "[<matplotlib.lines.Line2D at 0x2b36c9491d0>]"
      ]
     },
     "execution_count": 3,
     "metadata": {},
     "output_type": "execute_result"
    },
    {
     "data": {
      "image/png": "[encoded data removed]",
      "text/plain": [
       "<Figure size 432x288 with 1 Axes>"
      ]
     },
     "metadata": {
      "needs_background": "light"
     },
     "output_type": "display_data"
    }
   ],
   "source": [
    "\n",
    "\n",
    "#funciones de activación\n",
    "\n",
    "def cross_entropy(predictions, targets, epsilon=1e-12):\n",
    "    predictions = np.clip(predictions, epsilon, 1. - epsilon)\n",
    "    N = predictions.shape[0]\n",
    "    ce = -np.sum(targets*np.log(predictions+1e-9))/N\n",
    "    return ce\n",
    "\n",
    "\n",
    "\n",
    "lineal=function(funcion=lambda x:x,derivative=lambda x:1)\n",
    "sigm=function(funcion=lambda x: 1 / (1 + np.e ** (-x)),derivative=lambda x: x * (1 - x))\n",
    "tanh=function(funcion=lambda x: 2 / (1 + np.e ** (2*x))-1,derivative=lambda x:1-((2 / (1 + np.e ** (2*x)))-1)**2)\n",
    "\n",
    "softmax=function(funcion=lambda x: np.exp(x) / np.sum(np.exp(x), axis=0), derivative=lambda x:x*(1-x))\n",
    "relu=function(funcion=lambda x: np.maximum(0, x) ,derivative=lambda x: np.where(x<=0,0,1))\n",
    "\n",
    "# funciones de coste\n",
    "l2_cost=function(funcion=lambda Yp, Yr: np.mean((Yp - Yr) ** 2) ,derivative=lambda Yp, Yr: (Yp - Yr))\n",
    "\n",
    "_x = np.linspace(-10, 10, 100)\n",
    "\n",
    "plt.plot(_x, softmax.F(_x),\"tab:blue\")\n",
    "\n"
   ]
  },
  {
   "cell_type": "code",
   "execution_count": 4,
   "metadata": {},
   "outputs": [],
   "source": [
    "# CLASE DE LA CAPA DE LA RED\n",
    "from IPython.display import clear_output\n",
    "import time\n",
    "\n",
    "class neural_layer():\n",
    " \n",
    "  def __init__(self, n_conn, n_neur, act_f):\n",
    "    self.act = act_f\n",
    "    self.b = np.random.rand(1, n_neur)      * 2 - 1\n",
    "    self.W = np.random.rand(n_conn, n_neur) * 2 - 1\n",
    "    \n",
    "# creación de una red neuronal según topologia\n",
    "def create_nn(topology):\n",
    "  nn = []\n",
    "  for l, layer in enumerate(topology[:-1]):\n",
    "    nn.append(neural_layer(topology[l][0], topology[l+1][0], topology[l][1]))\n",
    "  return nn\n",
    "    \n",
    "# fucnción de predicción (fordware pass)    \n",
    "def predict(neural_net, X):\n",
    "  \n",
    "  out = [(None, X)] #primer data necesario\n",
    "  \n",
    "  # Forward pass\n",
    "  for l, layer in enumerate(neural_net):\n",
    "    z = out[-1][1] @ neural_net[l].W + neural_net[l].b\n",
    "    a = neural_net[l].act.F(z)\n",
    "    out.append((z, a))\n",
    "  return out[-1][1]\n",
    "  \n",
    "# función retropropagación del error\n",
    "def backward_pass(neural_net, X, Y, l2_cost, lr=0.5,momentun=1,batch_size=1):\n",
    "  sx=np.shape(X)\n",
    "  sy=np.shape(Y)\n",
    "  X=X.reshape(1,sx[0])\n",
    "  Y=Y.reshape(1,sy[0])\n",
    "  out = [(None, X)] #primer data necesario\n",
    "  \n",
    "  # Forward pass\n",
    "  for l, layer in enumerate(neural_net):\n",
    "    z = out[-1][1] @ neural_net[l].W + neural_net[l].b\n",
    "    a = neural_net[l].act.F(z)\n",
    "    out.append((z, a))\n",
    "  acc=np.round(a)==Y\n",
    "  # Backward pass \n",
    "  deltas = []\n",
    "  for l in reversed(range(0, len(neural_net))):\n",
    "    z = out[l+1][0]\n",
    "    a = out[l+1][1]\n",
    "    if l == len(neural_net) - 1:\n",
    "      deltas.insert(0, l2_cost.D(a, Y) * neural_net[l].act.D(a))\n",
    "    else:\n",
    "      deltas.insert(0, deltas[0] @ _W.T * neural_net[l].act.D(a))\n",
    "    _W = neural_net[l].W\n",
    " \n",
    "    # Gradient descent\n",
    "    neural_net[l].b = neural_net[l].b - np.mean(deltas[0], axis=0, keepdims=True) * lr   \n",
    "    neural_net[l].W = neural_net[l].W - out[l][1].T @ deltas[0] * lr\n",
    "  return out[-1][1],acc\n",
    "\n",
    "\n",
    "# función de entrenamiento de la red\n",
    "def train(neural_net,X,Y,l2_cost,lr=0.5,epoch=1000,momentun=1,batch_size=1):\n",
    "    loss = []\n",
    "    ACC =[]\n",
    "    for i in range(epoch):\n",
    "        account=0\n",
    "        # Entrenemos a la red!\n",
    "        for j in range(len(X)):\n",
    "            pY,acc = backward_pass(neural_n, X[j,:], Y[j,:], l2_cost, lr,momentun,batch_size)\n",
    "            if acc.all():\n",
    "                account+=1\n",
    "        print(\"Epoch={}, Loss={} Accuracy={}\".format(i,round(l2_cost.F(pY,Y[j,:]),15),round(account/len(Y),3)),end=\"\")\n",
    "        clear_output(wait=True)\n",
    "        ACC.append(account/len(Y))    \n",
    "        loss.append(l2_cost.F(pY,Y[j,:]))\n",
    "     \n",
    "    return loss,ACC"
   ]
  },
  {
   "cell_type": "markdown",
   "metadata": {},
   "source": [
    "# Realiza un ejemplo de clasificación y regresión\n",
    "Hay varios datasets dentro del directorio o si lo prefieres puede bajar más de esta web:\n",
    "https://www.mldata.io/datasets/\n",
    "\n",
    "Debes realizar, usando este perceptrón un ajuste de una red para un dataset de clasificación y otro de regresión\n",
    "    - Nota: la regresión da una aproximación por lo que sólo tiene una neurona de salida\n",
    "\n",
    "Ajusta los vectores de entrada y normaliza los datos a flotantes...\n",
    "Guarda algunos valores separados para luego probar tu red\n",
    "Entrena la red usando varias topologias no muy complicadas.\n",
    "No te preocupes si el error no es muy bajo. \n",
    "Indica cómo crees que se comporta la red que has definido\n",
    "\n",
    "En el perceptrón se han añadido dos Hiperparámetros, Bath_size y momentun que ya hemos visto en teoría.\n",
    "Debes intentar modificar el algoritmo backpropagation para que se pueda entrenar:\n",
    "    - Usando un valor distinto de batch_size. (ahora es solo 1)\n",
    "    - Añadir el momentun al algoritmo base de tal forma que tenga en cuenta el delta anterior en la aproximación al punto de convergencia"
   ]
  },
  {
   "cell_type": "code",
   "execution_count": 11,
   "metadata": {},
   "outputs": [
    {
     "name": "stdout",
     "output_type": "stream",
     "text": [
      "(100, 4)\n",
      "(100, 3)\n"
     ]
    }
   ],
   "source": [
    "#ATRIBUTOS: color[0],size[1],act[2],age[3],inflated[4]\n",
    "import csv\n",
    "X=[]\n",
    "Y=[]\n",
    "\n",
    "with open('globos.csv') as csvfile:\n",
    "    readCSV = csv.reader(csvfile, delimiter=',')\n",
    "    for row in readCSV:\n",
    "        #row=row[0].split(\",\")\n",
    "        \n",
    "        if row[0] == \"YELLOW\":\n",
    "            color=1.0/10\n",
    "        else:\n",
    "            color=2.0/10\n",
    "        \n",
    "        if row[1] == \"SMALL\":\n",
    "            size=1.0/10\n",
    "        else:\n",
    "            size=2.0/10\n",
    "        \n",
    "        if row[2] == \"STRETCH\":\n",
    "            act=1.0/10\n",
    "        else:\n",
    "            act=2.0/10\n",
    "\n",
    "            \n",
    "        if row[3] == \"CHILD\":\n",
    "            inflated=1.0/10\n",
    "        else:\n",
    "            inflated=2.0/10\n",
    "\n",
    "        X.append([color, size, act, inflated])\n",
    "\n",
    "        if row[4]==\"T\":\n",
    "            Y.append([1,0,0]) #Globo inflado TRUE\n",
    "        if row[4]==\"F\":\n",
    "            Y.append([0,0,1]) #Globo inflado FALSE\n",
    "\n",
    "\n",
    "Xtrain=np.array(X)\n",
    "Ytrain=np.array(Y)\n",
    "\n",
    "print(np.shape(Xtrain))\n",
    "print(np.shape(Ytrain))\n"
   ]
  },
  {
   "cell_type": "code",
   "execution_count": 12,
   "metadata": {},
   "outputs": [
    {
     "name": "stdout",
     "output_type": "stream",
     "text": [
      "Epoch=399, Loss=1.214330348e-06 Accuracy=1.0"
     ]
    }
   ],
   "source": [
    "# definicion de la red\n",
    "# definicion de la red\n",
    "#topology = [(4,sigm),(16,sigm),(3,sigm)] #buena configuracion\n",
    "topology = [(4,sigm),(8,sigm),(4,sigm),(3,softmax)]\n",
    "neural_n = create_nn(topology)  \n",
    "\n",
    "# FUNCION DE ENTRENAMIENTO\n",
    "\n",
    "epoch=400\n",
    "lr=0.2\n",
    "batch_size=1\n",
    "momentun=1\n",
    "loss = []\n",
    "accuracy=[]\n",
    "\n",
    "loss,accuracy=train(neural_n,Xtrain,Ytrain,l2_cost,lr,epoch,momentun,batch_size)"
   ]
  },
  {
   "cell_type": "code",
   "execution_count": 13,
   "metadata": {},
   "outputs": [
    {
     "data": {
      "image/png": "[encoded data removed]",
      "text/plain": [
       "<Figure size 432x288 with 1 Axes>"
      ]
     },
     "metadata": {
      "needs_background": "light"
     },
     "output_type": "display_data"
    },
    {
     "data": {
      "image/png": "[encoded data removed]",
      "text/plain": [
       "<Figure size 432x288 with 1 Axes>"
      ]
     },
     "metadata": {
      "needs_background": "light"
     },
     "output_type": "display_data"
    }
   ],
   "source": [
    "plt.plot(range(len(loss)), loss)\n",
    "plt.ylabel(\"loss function\")\n",
    "plt.xlabel(\"EPOCH NUMBER\")\n",
    "plt.show()\n",
    "plt.plot(range(len(accuracy)), accuracy, \"tab:red\")\n",
    "plt.ylabel(\"ACCURACY\")\n",
    "plt.xlabel(\"EPOCH NUMBER\")\n",
    "plt.show()\n",
    "  \n",
    " "
   ]
  },
  {
   "cell_type": "code",
   "execution_count": 14,
   "metadata": {},
   "outputs": [
    {
     "name": "stdout",
     "output_type": "stream",
     "text": [
      "predecir  [0.1 0.1 0.1 0.2] -- [1 0 0]  predict:  [[1. 0. 0.]]\n",
      "predecir  [0.1 0.1 0.1 0.2] -- [1 0 0]  predict:  [[1. 0. 0.]]\n",
      "predecir  [0.1 0.1 0.1 0.2] -- [1 0 0]  predict:  [[1. 0. 0.]]\n",
      "predecir  [0.1 0.1 0.1 0.2] -- [1 0 0]  predict:  [[1. 0. 0.]]\n",
      "predecir  [0.1 0.1 0.1 0.2] -- [1 0 0]  predict:  [[1. 0. 0.]]\n",
      "predecir  [0.1 0.1 0.1 0.2] -- [1 0 0]  predict:  [[1. 0. 0.]]\n",
      "predecir  [0.1 0.1 0.1 0.2] -- [1 0 0]  predict:  [[1. 0. 0.]]\n",
      "predecir  [0.1 0.1 0.1 0.2] -- [1 0 0]  predict:  [[1. 0. 0.]]\n",
      "predecir  [0.1 0.1 0.1 0.2] -- [1 0 0]  predict:  [[1. 0. 0.]]\n",
      "predecir  [0.1 0.1 0.1 0.2] -- [1 0 0]  predict:  [[1. 0. 0.]]\n",
      "predecir  [0.1 0.1 0.1 0.1] -- [0 0 1]  predict:  [[0. 0. 1.]]\n",
      "predecir  [0.1 0.1 0.1 0.1] -- [0 0 1]  predict:  [[0. 0. 1.]]\n",
      "predecir  [0.1 0.1 0.1 0.1] -- [0 0 1]  predict:  [[0. 0. 1.]]\n",
      "predecir  [0.1 0.1 0.1 0.1] -- [0 0 1]  predict:  [[0. 0. 1.]]\n",
      "predecir  [0.1 0.1 0.1 0.1] -- [0 0 1]  predict:  [[0. 0. 1.]]\n",
      "predecir  [0.1 0.1 0.2 0.2] -- [0 0 1]  predict:  [[0. 0. 1.]]\n",
      "predecir  [0.1 0.1 0.2 0.2] -- [0 0 1]  predict:  [[0. 0. 1.]]\n",
      "predecir  [0.1 0.1 0.2 0.2] -- [0 0 1]  predict:  [[0. 0. 1.]]\n",
      "predecir  [0.1 0.1 0.2 0.2] -- [0 0 1]  predict:  [[0. 0. 1.]]\n",
      "predecir  [0.1 0.1 0.2 0.2] -- [0 0 1]  predict:  [[0. 0. 1.]]\n",
      "predecir  [0.1 0.1 0.2 0.1] -- [0 0 1]  predict:  [[0. 0. 1.]]\n",
      "predecir  [0.1 0.1 0.2 0.1] -- [0 0 1]  predict:  [[0. 0. 1.]]\n",
      "predecir  [0.1 0.1 0.2 0.1] -- [0 0 1]  predict:  [[0. 0. 1.]]\n",
      "predecir  [0.1 0.1 0.2 0.1] -- [0 0 1]  predict:  [[0. 0. 1.]]\n",
      "predecir  [0.1 0.1 0.2 0.1] -- [0 0 1]  predict:  [[0. 0. 1.]]\n",
      "predecir  [0.1 0.2 0.1 0.2] -- [1 0 0]  predict:  [[1. 0. 0.]]\n",
      "predecir  [0.1 0.2 0.1 0.2] -- [1 0 0]  predict:  [[1. 0. 0.]]\n",
      "predecir  [0.1 0.2 0.1 0.2] -- [1 0 0]  predict:  [[1. 0. 0.]]\n",
      "predecir  [0.1 0.2 0.1 0.2] -- [1 0 0]  predict:  [[1. 0. 0.]]\n",
      "predecir  [0.1 0.2 0.1 0.2] -- [1 0 0]  predict:  [[1. 0. 0.]]\n",
      "predecir  [0.1 0.2 0.1 0.2] -- [1 0 0]  predict:  [[1. 0. 0.]]\n",
      "predecir  [0.1 0.2 0.1 0.2] -- [1 0 0]  predict:  [[1. 0. 0.]]\n",
      "predecir  [0.1 0.2 0.1 0.2] -- [1 0 0]  predict:  [[1. 0. 0.]]\n",
      "predecir  [0.1 0.2 0.1 0.2] -- [1 0 0]  predict:  [[1. 0. 0.]]\n",
      "predecir  [0.1 0.2 0.1 0.2] -- [1 0 0]  predict:  [[1. 0. 0.]]\n",
      "predecir  [0.1 0.2 0.1 0.1] -- [0 0 1]  predict:  [[0. 0. 1.]]\n",
      "predecir  [0.1 0.2 0.1 0.1] -- [0 0 1]  predict:  [[0. 0. 1.]]\n",
      "predecir  [0.1 0.2 0.1 0.1] -- [0 0 1]  predict:  [[0. 0. 1.]]\n",
      "predecir  [0.1 0.2 0.1 0.1] -- [0 0 1]  predict:  [[0. 0. 1.]]\n",
      "predecir  [0.1 0.2 0.1 0.1] -- [0 0 1]  predict:  [[0. 0. 1.]]\n",
      "predecir  [0.1 0.2 0.2 0.2] -- [0 0 1]  predict:  [[0. 0. 1.]]\n",
      "predecir  [0.1 0.2 0.2 0.2] -- [0 0 1]  predict:  [[0. 0. 1.]]\n",
      "predecir  [0.1 0.2 0.2 0.2] -- [0 0 1]  predict:  [[0. 0. 1.]]\n",
      "predecir  [0.1 0.2 0.2 0.2] -- [0 0 1]  predict:  [[0. 0. 1.]]\n",
      "predecir  [0.1 0.2 0.2 0.2] -- [0 0 1]  predict:  [[0. 0. 1.]]\n",
      "predecir  [0.1 0.2 0.2 0.1] -- [0 0 1]  predict:  [[0. 0. 1.]]\n",
      "predecir  [0.1 0.2 0.2 0.1] -- [0 0 1]  predict:  [[0. 0. 1.]]\n",
      "predecir  [0.1 0.2 0.2 0.1] -- [0 0 1]  predict:  [[0. 0. 1.]]\n",
      "predecir  [0.1 0.2 0.2 0.1] -- [0 0 1]  predict:  [[0. 0. 1.]]\n",
      "predecir  [0.1 0.2 0.2 0.1] -- [0 0 1]  predict:  [[0. 0. 1.]]\n",
      "predecir  [0.2 0.1 0.1 0.2] -- [1 0 0]  predict:  [[1. 0. 0.]]\n",
      "predecir  [0.2 0.1 0.1 0.2] -- [1 0 0]  predict:  [[1. 0. 0.]]\n",
      "predecir  [0.2 0.1 0.1 0.2] -- [1 0 0]  predict:  [[1. 0. 0.]]\n",
      "predecir  [0.2 0.1 0.1 0.2] -- [1 0 0]  predict:  [[1. 0. 0.]]\n",
      "predecir  [0.2 0.1 0.1 0.2] -- [1 0 0]  predict:  [[1. 0. 0.]]\n",
      "predecir  [0.2 0.1 0.1 0.2] -- [1 0 0]  predict:  [[1. 0. 0.]]\n",
      "predecir  [0.2 0.1 0.1 0.2] -- [1 0 0]  predict:  [[1. 0. 0.]]\n",
      "predecir  [0.2 0.1 0.1 0.2] -- [1 0 0]  predict:  [[1. 0. 0.]]\n",
      "predecir  [0.2 0.1 0.1 0.2] -- [1 0 0]  predict:  [[1. 0. 0.]]\n",
      "predecir  [0.2 0.1 0.1 0.2] -- [1 0 0]  predict:  [[1. 0. 0.]]\n",
      "predecir  [0.2 0.1 0.1 0.1] -- [0 0 1]  predict:  [[0. 0. 1.]]\n",
      "predecir  [0.2 0.1 0.1 0.1] -- [0 0 1]  predict:  [[0. 0. 1.]]\n",
      "predecir  [0.2 0.1 0.1 0.1] -- [0 0 1]  predict:  [[0. 0. 1.]]\n",
      "predecir  [0.2 0.1 0.1 0.1] -- [0 0 1]  predict:  [[0. 0. 1.]]\n",
      "predecir  [0.2 0.1 0.1 0.1] -- [0 0 1]  predict:  [[0. 0. 1.]]\n",
      "predecir  [0.2 0.1 0.2 0.2] -- [0 0 1]  predict:  [[0. 0. 1.]]\n",
      "predecir  [0.2 0.1 0.2 0.2] -- [0 0 1]  predict:  [[0. 0. 1.]]\n",
      "predecir  [0.2 0.1 0.2 0.2] -- [0 0 1]  predict:  [[0. 0. 1.]]\n",
      "predecir  [0.2 0.1 0.2 0.2] -- [0 0 1]  predict:  [[0. 0. 1.]]\n",
      "predecir  [0.2 0.1 0.2 0.2] -- [0 0 1]  predict:  [[0. 0. 1.]]\n",
      "predecir  [0.2 0.1 0.2 0.1] -- [0 0 1]  predict:  [[0. 0. 1.]]\n",
      "predecir  [0.2 0.1 0.2 0.1] -- [0 0 1]  predict:  [[0. 0. 1.]]\n",
      "predecir  [0.2 0.1 0.2 0.1] -- [0 0 1]  predict:  [[0. 0. 1.]]\n",
      "predecir  [0.2 0.1 0.2 0.1] -- [0 0 1]  predict:  [[0. 0. 1.]]\n",
      "predecir  [0.2 0.1 0.2 0.1] -- [0 0 1]  predict:  [[0. 0. 1.]]\n",
      "predecir  [0.2 0.2 0.1 0.2] -- [1 0 0]  predict:  [[1. 0. 0.]]\n",
      "predecir  [0.2 0.2 0.1 0.2] -- [1 0 0]  predict:  [[1. 0. 0.]]\n",
      "predecir  [0.2 0.2 0.1 0.2] -- [1 0 0]  predict:  [[1. 0. 0.]]\n",
      "predecir  [0.2 0.2 0.1 0.2] -- [1 0 0]  predict:  [[1. 0. 0.]]\n",
      "predecir  [0.2 0.2 0.1 0.2] -- [1 0 0]  predict:  [[1. 0. 0.]]\n",
      "predecir  [0.2 0.2 0.1 0.2] -- [1 0 0]  predict:  [[1. 0. 0.]]\n",
      "predecir  [0.2 0.2 0.1 0.2] -- [1 0 0]  predict:  [[1. 0. 0.]]\n",
      "predecir  [0.2 0.2 0.1 0.2] -- [1 0 0]  predict:  [[1. 0. 0.]]\n",
      "predecir  [0.2 0.2 0.1 0.2] -- [1 0 0]  predict:  [[1. 0. 0.]]\n",
      "predecir  [0.2 0.2 0.1 0.2] -- [1 0 0]  predict:  [[1. 0. 0.]]\n",
      "predecir  [0.2 0.2 0.1 0.1] -- [0 0 1]  predict:  [[0. 0. 1.]]\n",
      "predecir  [0.2 0.2 0.1 0.1] -- [0 0 1]  predict:  [[0. 0. 1.]]\n",
      "predecir  [0.2 0.2 0.1 0.1] -- [0 0 1]  predict:  [[0. 0. 1.]]\n",
      "predecir  [0.2 0.2 0.1 0.1] -- [0 0 1]  predict:  [[0. 0. 1.]]\n",
      "predecir  [0.2 0.2 0.1 0.1] -- [0 0 1]  predict:  [[0. 0. 1.]]\n",
      "predecir  [0.2 0.2 0.2 0.2] -- [0 0 1]  predict:  [[0. 0. 1.]]\n",
      "predecir  [0.2 0.2 0.2 0.2] -- [0 0 1]  predict:  [[0. 0. 1.]]\n",
      "predecir  [0.2 0.2 0.2 0.2] -- [0 0 1]  predict:  [[0. 0. 1.]]\n",
      "predecir  [0.2 0.2 0.2 0.2] -- [0 0 1]  predict:  [[0. 0. 1.]]\n",
      "predecir  [0.2 0.2 0.2 0.2] -- [0 0 1]  predict:  [[0. 0. 1.]]\n",
      "predecir  [0.2 0.2 0.2 0.1] -- [0 0 1]  predict:  [[0. 0. 1.]]\n",
      "predecir  [0.2 0.2 0.2 0.1] -- [0 0 1]  predict:  [[0. 0. 1.]]\n",
      "predecir  [0.2 0.2 0.2 0.1] -- [0 0 1]  predict:  [[0. 0. 1.]]\n",
      "predecir  [0.2 0.2 0.2 0.1] -- [0 0 1]  predict:  [[0. 0. 1.]]\n",
      "predecir  [0.2 0.2 0.2 0.1] -- [0 0 1]  predict:  [[0. 0. 1.]]\n",
      "::::::::::::::::::::::::::::\n"
     ]
    }
   ],
   "source": [
    "# VISUALIZACIÓN Y TEST\n",
    "#  ahora podemos interrogar. el primer valor es el bias\n",
    "def print_predict(X,Y):\n",
    "    for i in range(len(X)):\n",
    "        sal=np.round(predict(neural_n,X[i]))\n",
    "        print(\"predecir \",X[i],\"--\",Y[i],\" predict: \",sal)\n",
    " \n",
    "\n",
    "print_predict(Xtrain,Ytrain)\n",
    "print(\"::::::::::::::::::::::::::::\")\n"
   ]
  },
  {
   "cell_type": "code",
   "execution_count": 16,
   "metadata": {},
   "outputs": [
    {
     "name": "stdout",
     "output_type": "stream",
     "text": [
      "Juan Antonio Silva Luján - Entrega02 (Perceptrón Múltiple - Clasificación 2)\n"
     ]
    }
   ],
   "source": [
    "print(\"Juan Antonio Silva Luján - Entrega02 (Perceptrón Múltiple - Clasificación 2)\")"
   ]
  },
  {
   "cell_type": "code",
   "execution_count": null,
   "metadata": {},
   "outputs": [],
   "source": []
  }
 ],
 "metadata": {
  "kernelspec": {
   "display_name": "Python 3",
   "language": "python",
   "name": "python3"
  },
  "language_info": {
   "codemirror_mode": {
    "name": "ipython",
    "version": 3
   },
   "file_extension": ".py",
   "mimetype": "text/x-python",
   "name": "python",
   "nbconvert_exporter": "python",
   "pygments_lexer": "ipython3",
   "version": "3.7.3"
  }
 },
 "nbformat": 4,
 "nbformat_minor": 2
}
