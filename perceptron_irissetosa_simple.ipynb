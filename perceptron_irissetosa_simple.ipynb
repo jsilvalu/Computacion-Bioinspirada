{
 "cells": [
  {
   "cell_type": "code",
   "execution_count": 52,
   "metadata": {},
   "outputs": [],
   "source": [
    "import numpy as np\n",
    "\n",
    "class Perceptron(object):\n",
    "\n",
    "    def __init__(self, no_of_inputs, epoch=6, learning_rate=0.01):\n",
    "        self.epoch = epoch\n",
    "        self.learning_rate = learning_rate\n",
    "        self.weights = np.zeros(no_of_inputs + 1)\n",
    "           \n",
    "    def predict(self, inputs):\n",
    "        #summation = np.dot(inputs, self.weights[1:]) + self.weights[0]\n",
    "        summation = inputs @ self.weights[1:] + self.weights[0]\n",
    "        if summation > 0:\n",
    "          activation = 1\n",
    "        else:\n",
    "          activation = 0            \n",
    "        return activation\n",
    "\n",
    "    def train(self, training_inputs, labels):\n",
    "        for _ in range(self.epoch):\n",
    "            for inputs, label in zip(training_inputs, labels):\n",
    "                prediction = self.predict(inputs)\n",
    "                self.weights[1:] += self.learning_rate * (label - prediction) * inputs\n",
    "                self.weights[0] += self.learning_rate * (label - prediction)"
   ]
  },
  {
   "cell_type": "markdown",
   "metadata": {},
   "source": [
    "# Actividad a realizar:\n",
    "Hay dos ficheros csv (usar import csv) para cargar en dos vectores X Y. \n",
    "El fichero iris_simple contiene datos etiquetados de dos flores distintas.\n",
    "El fichero iris_setosa, contiene mas caracteristicas.\n",
    "Primero representa los datos para ver su distribución\n",
    "Segundo entrena el perceptrón para ver si es capaz de predecir valores.\n",
    "Deja 3 filas de cada flor en un vector separado para ver si despues de entrenar con el primer conjunto es capaz de \n",
    "predecir datos nuevos.\n"
   ]
  },
  {
   "cell_type": "code",
   "execution_count": 53,
   "metadata": {},
   "outputs": [
    {
     "name": "stdout",
     "output_type": "stream",
     "text": [
      "[5.1 4.9 4.7 4.6 5.  5.4 4.6 5.  4.4 4.9 5.4 4.8 4.8 4.3 5.8 5.7 5.4 5.1\n",
      " 5.7 5.1 5.4 5.1 4.6 5.1 4.8 5.  5.  5.2 5.2 4.7 4.8 5.4 5.2 5.5 4.9 5.\n",
      " 5.5 4.9 4.4 5.1 5.  4.5 4.4 5.  5.1 4.8 5.1 4.6 5.3 5.  7.  6.4 6.9 5.5\n",
      " 6.5 5.7 6.3 4.9 6.6 5.2 5.  5.9 6.  6.1 5.6 6.7 5.6 5.8 6.2 5.6 5.9 6.1\n",
      " 6.3 6.1 6.4 6.6 6.8 6.7 6.  5.7 5.5 5.5 5.8 6.  5.4 6.  6.7 6.3 5.6 5.5\n",
      " 5.5 6.1 5.8 5.  5.6 5.7 5.7 6.2 5.1 5.7]\n",
      "[1.4 1.4 1.3 1.5 1.4 1.7 1.4 1.5 1.4 1.5 1.5 1.6 1.4 1.1 1.2 1.5 1.3 1.4\n",
      " 1.7 1.5 1.7 1.5 1.  1.7 1.9 1.6 1.6 1.5 1.4 1.6 1.6 1.5 1.5 1.4 1.5 1.2\n",
      " 1.3 1.5 1.3 1.5 1.3 1.3 1.3 1.6 1.9 1.4 1.6 1.4 1.5 1.4 4.7 4.5 4.9 4.\n",
      " 4.6 4.5 4.7 3.3 4.6 3.9 3.5 4.2 4.  4.7 3.6 4.4 4.5 4.1 4.5 3.9 4.8 4.\n",
      " 4.9 4.7 4.3 4.4 4.8 5.  4.5 3.5 3.8 3.7 3.9 5.1 4.5 4.5 4.7 4.4 4.1 4.\n",
      " 4.4 4.6 4.  3.3 4.2 4.2 4.2 4.3 3.  4.1]\n",
      "[0. 0. 0. 0. 0. 0. 0. 0. 0. 0. 0. 0. 0. 0. 0. 0. 0. 0. 0. 0. 0. 0. 0. 0.\n",
      " 0. 0. 0. 0. 0. 0. 0. 0. 0. 0. 0. 0. 0. 0. 0. 0. 0. 0. 0. 0. 0. 0. 0. 0.\n",
      " 0. 0. 1. 1. 1. 1. 1. 1. 1. 1. 1. 1. 1. 1. 1. 1. 1. 1. 1. 1. 1. 1. 1. 1.\n",
      " 1. 1. 1. 1. 1. 1. 1. 1. 1. 1. 1. 1. 1. 1. 1. 1. 1. 1. 1. 1. 1. 1. 1. 1.\n",
      " 1. 1. 1. 1.]\n"
     ]
    }
   ],
   "source": [
    "#Entrega sesion02 - Juan Antonio Silva Luján\n",
    "#carga datos\n",
    "import csv\n",
    "X=[]\n",
    "Y=[]\n",
    "#d array definido para el entrenamiento del perceptrón\n",
    "d=[]\n",
    "with open('iris_simple.csv') as csvfile:\n",
    "    for line in csvfile.readlines():\n",
    "        array = line.split(',')\n",
    "        X.append(array[0])\n",
    "        Y.append(array[1])\n",
    "        d.append(array[2][:1])\n",
    "\n",
    "#Convierto los array de String a float32\n",
    "X1 = np.array(X, dtype=np.float32)\n",
    "Y1 = np.array(Y, dtype=np.float32)\n",
    "d1 = np.array(d, dtype=np.float32)\n",
    "\n",
    "xtrain=np.array(X1) \n",
    "ytrain=np.array(Y1)\n",
    "\n",
    "#Imprimo el array resultante\n",
    "print(X1)\n",
    "print(Y1)\n",
    "print(d1)"
   ]
  },
  {
   "cell_type": "code",
   "execution_count": 54,
   "metadata": {
    "scrolled": true
   },
   "outputs": [
    {
     "data": {
      "image/png": "[encoded data removed]",
      "text/plain": [
       "<Figure size 432x288 with 1 Axes>"
      ]
     },
     "metadata": {
      "needs_background": "light"
     },
     "output_type": "display_data"
    }
   ],
   "source": [
    "#gráfica de datos\n",
    "import matplotlib.pyplot as plt\n",
    "plt.title(\"Representación Gráfica de datos\")\n",
    "plt.scatter(X1,Y1)\n",
    "plt.show()"
   ]
  },
  {
   "cell_type": "code",
   "execution_count": 55,
   "metadata": {},
   "outputs": [
    {
     "name": "stdout",
     "output_type": "stream",
     "text": [
      "None\n"
     ]
    }
   ],
   "source": [
    "\n",
    "#entrenamiento\n",
    "#Primero \"fusiono\" los vectores X e Y en una matriz\n",
    "matriztrain=np.column_stack((xtrain,ytrain))\n",
    "\n",
    "perceptron = Perceptron(2,epoch=100)\n",
    "\n",
    "#perceptron.train(X1,Y1)\n",
    "print(perceptron.train(matriztrain,d1))"
   ]
  },
  {
   "cell_type": "code",
   "execution_count": 56,
   "metadata": {},
   "outputs": [
    {
     "name": "stdout",
     "output_type": "stream",
     "text": [
      "Entrega02 - Juan Antonio Silva Luján\n"
     ]
    }
   ],
   "source": [
    "print(\"Entrega02 - Juan Antonio Silva Luján\")"
   ]
  },
  {
   "cell_type": "code",
   "execution_count": 59,
   "metadata": {},
   "outputs": [
    {
     "name": "stdout",
     "output_type": "stream",
     "text": [
      "[[0 0]\n",
      " [0 1]\n",
      " [1 0]\n",
      " [1 1]]\n"
     ]
    }
   ],
   "source": [
    "#Intento de implementación de puerta XOR con 2 neuronas OR y AND\n",
    "X = np.array([\n",
    "        [0, 0],\n",
    "        [0, 1],\n",
    "        [1, 0],\n",
    "        [1, 1]])\n",
    "print(X)\n",
    "\n",
    "X1 = np.array([0, 0, 0, 1])\n",
    "Y1 = np.array([0, 1, 1, 1])\n",
    "\n",
    "AND=perceptron.train(X, X1) \n",
    "OR=perceptron.train(X, Y1)\n",
    "\n",
    "def XOR(x1,x2):\n",
    "    #salida1=AND.predict([x1, not x2])\n",
    "    #salida2=AND.predict([not x1, x2])\n",
    "    return OR.predict([salida1,salida2])"
   ]
  },
  {
   "cell_type": "code",
   "execution_count": null,
   "metadata": {},
   "outputs": [],
   "source": []
  }
 ],
 "metadata": {
  "kernelspec": {
   "display_name": "Python 3",
   "language": "python",
   "name": "python3"
  },
  "language_info": {
   "codemirror_mode": {
    "name": "ipython",
    "version": 3
   },
   "file_extension": ".py",
   "mimetype": "text/x-python",
   "name": "python",
   "nbconvert_exporter": "python",
   "pygments_lexer": "ipython3",
   "version": "3.7.3"
  }
 },
 "nbformat": 4,
 "nbformat_minor": 2
}
